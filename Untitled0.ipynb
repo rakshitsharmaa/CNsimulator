{
  "nbformat": 4,
  "nbformat_minor": 0,
  "metadata": {
    "colab": {
      "name": "Untitled0.ipynb",
      "provenance": [],
      "collapsed_sections": [],
      "authorship_tag": "ABX9TyNxI0dLOeLE7wvWDvtapLhb",
      "include_colab_link": true
    },
    "kernelspec": {
      "name": "python3",
      "display_name": "Python 3"
    },
    "language_info": {
      "name": "python"
    }
  },
  "cells": [
    {
      "cell_type": "markdown",
      "metadata": {
        "id": "view-in-github",
        "colab_type": "text"
      },
      "source": [
        "<a href=\"https://colab.research.google.com/github/rakshitsharmaa/CNsimulator/blob/main/Untitled0.ipynb\" target=\"_parent\"><img src=\"https://colab.research.google.com/assets/colab-badge.svg\" alt=\"Open In Colab\"/></a>"
      ]
    },
    {
      "cell_type": "code",
      "execution_count": 2,
      "metadata": {
        "colab": {
          "base_uri": "https://localhost:8080/",
          "height": 295
        },
        "id": "HWRuuHHOIvn1",
        "outputId": "7d7329eb-3a93-431f-f22b-1909f67050a8"
      },
      "outputs": [
        {
          "output_type": "display_data",
          "data": {
            "text/plain": [
              "<Figure size 432x288 with 1 Axes>"
            ],
            "image/png": "[encoded data removed]"
          },
          "metadata": {
            "needs_background": "light"
          }
        }
      ],
      "source": [
        "# importing libraries    \n",
        " \n",
        "import matplotlib.pyplot as mtp    \n",
        "import pandas as pd   \n",
        "import numpy as nm   \n",
        "# Importing the dataset  \n",
        "dataset = pd.read_csv('Mall_Customers.csv')  \n",
        "\n",
        "x = dataset.iloc[:, [3, 4]].values  \n",
        "\n",
        "\n",
        "#finding optimal number of clusters using the elbow method  \n",
        "from sklearn.cluster import KMeans  \n",
        "wcss_list= []  #Initializing the list for the values of WCSS  \n",
        "  \n",
        "# Using for loop for iterations from 1 to 10.  \n",
        "for i in range(1, 11):  \n",
        "    kmeans = KMeans(n_clusters=i, init='k-means++', random_state= 42)  \n",
        "    kmeans.fit(x)  \n",
        "    wcss_list.append(kmeans.inertia_)  \n",
        "# mtp.plot(range(1, 11), wcss_list)  \n",
        "# mtp.title('The Elobw Method Graph')  \n",
        "# mtp.xlabel('Number of clusters(k)')  \n",
        "# mtp.ylabel('wcss_list')  \n",
        "# mtp.show()  \n",
        "\n",
        "#training the K-means model on a dataset  \n",
        "kmeans = KMeans(n_clusters=5, init='k-means++', random_state= 42)  \n",
        "y_predict= kmeans.fit_predict(x)  \n",
        "\n",
        "#visulaizing the clusters  \n",
        "mtp.scatter(x[y_predict == 0, 0], x[y_predict == 0, 1], s = 100, c = 'blue', label = 'Cluster 1') #for first cluster  \n",
        "mtp.scatter(x[y_predict == 1, 0], x[y_predict == 1, 1], s = 100, c = 'green', label = 'Cluster 2') #for second cluster  \n",
        "mtp.scatter(x[y_predict== 2, 0], x[y_predict == 2, 1], s = 100, c = 'red', label = 'Cluster 3') #for third cluster  \n",
        "mtp.scatter(x[y_predict == 3, 0], x[y_predict == 3, 1], s = 100, c = 'cyan', label = 'Cluster 4') #for fourth cluster  \n",
        "mtp.scatter(x[y_predict == 4, 0], x[y_predict == 4, 1], s = 100, c = 'magenta', label = 'Cluster 5') #for fifth cluster  \n",
        "mtp.scatter(kmeans.cluster_centers_[:, 0], kmeans.cluster_centers_[:, 1], s = 300, c = 'yellow', label = 'Centroid')   \n",
        "mtp.title('Clusters of customers')  \n",
        "mtp.xlabel('Annual Income (k$)')  \n",
        "mtp.ylabel('Spending Score (1-100)')  \n",
        "mtp.legend()  \n",
        "mtp.show()"
      ]
    },
    {
      "cell_type": "code",
      "source": [
        ""
      ],
      "metadata": {
        "id": "CZOdAGW9KphD"
      },
      "execution_count": null,
      "outputs": []
    },
    {
      "cell_type": "code",
      "source": [
        "def mapReduce(s):\n",
        "    splitted = s.split()\n",
        "    output = dict()\n",
        "\n",
        "    for i in splitted:\n",
        "        if i in output.keys():\n",
        "            output[i] = output[i] + 1\n",
        "\n",
        "        else:\n",
        "            output[i] = 1\n",
        "\n",
        "    return output\n",
        "\n",
        "\n",
        "if __name__ == '__main__':\n",
        "    # s = (input(\"Enter input :\\n\"))\n",
        "    f = open(\"dataset.txt\")\n",
        "    s = f.read().replace(\"\\n\", \" \")\n",
        "    f.close()\n",
        "    print(\"Input :\")\n",
        "    print(s)\n",
        "    \n",
        "    word_count = mapReduce(s)\n",
        "    print(\"\\nOutput :\")\n",
        "    print(word_count)\n",
        "\n",
        "\n",
        "    "
      ],
      "metadata": {
        "colab": {
          "base_uri": "https://localhost:8080/"
        },
        "id": "wwT3lVbIJBaC",
        "outputId": "7f997e1f-dc32-4a8f-9e05-403626a09a79"
      },
      "execution_count": 5,
      "outputs": [
        {
          "output_type": "stream",
          "name": "stdout",
          "text": [
            "Input :\n",
            "word count from Wikipedia the free encyclopedia the word count is the number of words in a document or passage of text Word counting may be needed when a text is required to stay within certain numbers of words This may particularly be the case in academia legal proceedings journalism and advertising Word count is commonly used by translators to determine the price for the translation job Word counts may also be used to calculate measures of readability and to measure typing and reading speeds usually in words per minute When converting character counts to words a measure of five or six characters to a word is generally used Contents Details and variations of definition Software In fiction In non fiction See also References Sources External links Details and variations of definition This section does not cite any references or sources Please help improve this section by adding citations to reliable sources Unsourced material may be challenged and removed Variations in the operational definitions of how to count the words can occur namely what counts as a word and which words don't count toward the total However especially since the advent of widespread word processing there is a broad consensus on these operational definitions and hence the bottom line integer result The consensus is to accept the text segmentation rules generally found in most word processing software including how word boundaries are determined which depends on how word dividers are defined The first trait of that definition is that a space any of various whitespace characters such as a regular word space an em space or a tab character is a word divider Usually a hyphen or a slash is too Different word counting programs may give varying results depending on the text segmentation rule details and on whether words outside the main text such as footnotes endnotes or hidden text) are counted But the behavior of most major word processing applications is broadly similar However during the era when school assignments were done in handwriting or with typewriters the rules for these definitions often differed from todays consensus Most importantly many students were drilled on the rule that certain words don't count usually articles namely a an the but sometimes also others such as conjunctions for example and or but and some prepositions usually to of Hyphenated permanent compounds such as follow up noun or long term adjective were counted as one word To save the time and effort of counting word by word often a rule of thumb for the average number of words per line was used such as 10 words per line These rules have fallen by the wayside in the word processing era the word count feature of such software which follows the text segmentation rules mentioned earlier is now the standard arbiter because it is largely consistent across documents and applications and because it is fast effortless and costless already included with the application As for which sections of a document count toward the total such as footnotes endnotes abstracts reference lists and bibliographies tables figure captions hidden text the person in charge teacher client can define their choice and users students workers can simply select or exclude the elements accordingly and watch the word count automatically update Software Modern web browsers support word counting via extensions via a JavaScript bookmarklet or a script that is hosted in a website Most word processors can also count words Unix like systems include a program wc specifically for word counting As explained earlier different word counting programs may give varying results depending on the text segmentation rule details The exact number of words often is not a strict requirement thus the variation is acceptable In fiction Novelist Jane Smiley suggests that length is an important quality of the novel However novels can vary tremendously in length Smiley lists novels as typically being between and words while National Novel Writing Month requires its novels to be at least words There are no firm rules for example the boundary between a novella and a novel is arbitrary and a literary work may be difficult to categorise But while the length of a novel is to a large extent up to its writer lengths may also vary by subgenre many chapter books for children start at a length of about words and a typical mystery novel might be in the to word range while a thriller could be over words The Science Fiction and Fantasy Writers of America specifies word lengths for each category of its Nebula award categories Classification\tWord count Novel over words Novella to words Novelette to words Short story under words In non fiction The acceptable length of an academic dissertation varies greatly dependent predominantly on the subject Numerous American universities limit Ph.D. dissertations to at most words barring special permission for exceeding this limit\n",
            "\n",
            "Output :\n",
            "{'word': 24, 'count': 11, 'from': 2, 'Wikipedia': 1, 'the': 38, 'free': 1, 'encyclopedia': 1, 'is': 19, 'number': 3, 'of': 25, 'words': 21, 'in': 11, 'a': 28, 'document': 2, 'or': 11, 'passage': 1, 'text': 8, 'Word': 4, 'counting': 6, 'may': 8, 'be': 8, 'needed': 1, 'when': 2, 'required': 1, 'to': 18, 'stay': 1, 'within': 1, 'certain': 2, 'numbers': 1, 'This': 2, 'particularly': 1, 'case': 1, 'academia': 1, 'legal': 1, 'proceedings': 1, 'journalism': 1, 'and': 23, 'advertising': 1, 'commonly': 1, 'used': 4, 'by': 5, 'translators': 1, 'determine': 1, 'price': 1, 'for': 10, 'translation': 1, 'job': 1, 'counts': 3, 'also': 5, 'calculate': 1, 'measures': 1, 'readability': 1, 'measure': 2, 'typing': 1, 'reading': 1, 'speeds': 1, 'usually': 3, 'per': 3, 'minute': 1, 'When': 1, 'converting': 1, 'character': 2, 'five': 1, 'six': 1, 'characters': 2, 'generally': 2, 'Contents': 1, 'Details': 2, 'variations': 2, 'definition': 3, 'Software': 2, 'In': 4, 'fiction': 4, 'non': 2, 'See': 1, 'References': 1, 'Sources': 1, 'External': 1, 'links': 1, 'section': 2, 'does': 1, 'not': 2, 'cite': 1, 'any': 2, 'references': 1, 'sources': 2, 'Please': 1, 'help': 1, 'improve': 1, 'this': 2, 'adding': 1, 'citations': 1, 'reliable': 1, 'Unsourced': 1, 'material': 1, 'challenged': 1, 'removed': 1, 'Variations': 1, 'operational': 2, 'definitions': 3, 'how': 3, 'can': 5, 'occur': 1, 'namely': 2, 'what': 1, 'as': 9, 'which': 4, \"don't\": 2, 'toward': 2, 'total': 2, 'However': 3, 'especially': 1, 'since': 1, 'advent': 1, 'widespread': 1, 'processing': 4, 'there': 1, 'broad': 1, 'consensus': 3, 'on': 7, 'these': 2, 'hence': 1, 'bottom': 1, 'line': 3, 'integer': 1, 'result': 1, 'The': 5, 'accept': 1, 'segmentation': 4, 'rules': 5, 'found': 1, 'most': 3, 'software': 2, 'including': 1, 'boundaries': 1, 'are': 4, 'determined': 1, 'depends': 1, 'dividers': 1, 'defined': 1, 'first': 1, 'trait': 1, 'that': 5, 'space': 3, 'various': 1, 'whitespace': 1, 'such': 7, 'regular': 1, 'an': 4, 'em': 1, 'tab': 1, 'divider': 1, 'Usually': 1, 'hyphen': 1, 'slash': 1, 'too': 1, 'Different': 1, 'programs': 2, 'give': 2, 'varying': 2, 'results': 2, 'depending': 2, 'rule': 4, 'details': 2, 'whether': 1, 'outside': 1, 'main': 1, 'footnotes': 2, 'endnotes': 2, 'hidden': 2, 'text)': 1, 'counted': 2, 'But': 2, 'behavior': 1, 'major': 1, 'applications': 2, 'broadly': 1, 'similar': 1, 'during': 1, 'era': 2, 'school': 1, 'assignments': 1, 'were': 3, 'done': 1, 'handwriting': 1, 'with': 2, 'typewriters': 1, 'often': 3, 'differed': 1, 'todays': 1, 'Most': 2, 'importantly': 1, 'many': 2, 'students': 2, 'drilled': 1, 'articles': 1, 'but': 2, 'sometimes': 1, 'others': 1, 'conjunctions': 1, 'example': 2, 'some': 1, 'prepositions': 1, 'Hyphenated': 1, 'permanent': 1, 'compounds': 1, 'follow': 1, 'up': 2, 'noun': 1, 'long': 1, 'term': 1, 'adjective': 1, 'one': 1, 'To': 1, 'save': 1, 'time': 1, 'effort': 1, 'thumb': 1, 'average': 1, 'was': 1, '10': 1, 'These': 1, 'have': 1, 'fallen': 1, 'wayside': 1, 'feature': 1, 'follows': 1, 'mentioned': 1, 'earlier': 2, 'now': 1, 'standard': 1, 'arbiter': 1, 'because': 2, 'it': 2, 'largely': 1, 'consistent': 1, 'across': 1, 'documents': 1, 'fast': 1, 'effortless': 1, 'costless': 1, 'already': 1, 'included': 1, 'application': 1, 'As': 2, 'sections': 1, 'abstracts': 1, 'reference': 1, 'lists': 2, 'bibliographies': 1, 'tables': 1, 'figure': 1, 'captions': 1, 'person': 1, 'charge': 1, 'teacher': 1, 'client': 1, 'define': 1, 'their': 1, 'choice': 1, 'users': 1, 'workers': 1, 'simply': 1, 'select': 1, 'exclude': 1, 'elements': 1, 'accordingly': 1, 'watch': 1, 'automatically': 1, 'update': 1, 'Modern': 1, 'web': 1, 'browsers': 1, 'support': 1, 'via': 2, 'extensions': 1, 'JavaScript': 1, 'bookmarklet': 1, 'script': 1, 'hosted': 1, 'website': 1, 'processors': 1, 'Unix': 1, 'like': 1, 'systems': 1, 'include': 1, 'program': 1, 'wc': 1, 'specifically': 1, 'explained': 1, 'different': 1, 'exact': 1, 'strict': 1, 'requirement': 1, 'thus': 1, 'variation': 1, 'acceptable': 2, 'Novelist': 1, 'Jane': 1, 'Smiley': 2, 'suggests': 1, 'length': 5, 'important': 1, 'quality': 1, 'novel': 4, 'novels': 3, 'vary': 2, 'tremendously': 1, 'typically': 1, 'being': 1, 'between': 2, 'while': 3, 'National': 1, 'Novel': 2, 'Writing': 1, 'Month': 1, 'requires': 1, 'its': 3, 'at': 3, 'least': 1, 'There': 1, 'no': 1, 'firm': 1, 'boundary': 1, 'novella': 1, 'arbitrary': 1, 'literary': 1, 'work': 1, 'difficult': 1, 'categorise': 1, 'large': 1, 'extent': 1, 'writer': 1, 'lengths': 2, 'subgenre': 1, 'chapter': 1, 'books': 1, 'children': 1, 'start': 1, 'about': 1, 'typical': 1, 'mystery': 1, 'might': 1, 'range': 1, 'thriller': 1, 'could': 1, 'over': 2, 'Science': 1, 'Fiction': 1, 'Fantasy': 1, 'Writers': 1, 'America': 1, 'specifies': 1, 'each': 1, 'category': 1, 'Nebula': 1, 'award': 1, 'categories': 1, 'Classification': 1, 'Novella': 1, 'Novelette': 1, 'Short': 1, 'story': 1, 'under': 1, 'academic': 1, 'dissertation': 1, 'varies': 1, 'greatly': 1, 'dependent': 1, 'predominantly': 1, 'subject': 1, 'Numerous': 1, 'American': 1, 'universities': 1, 'limit': 2, 'Ph.D.': 1, 'dissertations': 1, 'barring': 1, 'special': 1, 'permission': 1, 'exceeding': 1}\n"
          ]
        }
      ]
    },
    {
      "cell_type": "code",
      "source": [
        "#nb\n",
        "import numpy as np\n",
        "import matplotlib.pyplot as plt\n",
        "import pandas as pd\n",
        "\n",
        "# Importing the dataset\n",
        "dataset = pd.read_csv('Social_Network_Ads.csv')\n",
        "X = dataset.iloc[:, [2, 3]].values\n",
        "y = dataset.iloc[:, -1].values\n",
        "\n",
        "# Splitting the dataset into the Training set and Test set\n",
        "from sklearn.model_selection import train_test_split\n",
        "X_train, X_test, y_train, y_test = train_test_split(X, y, test_size = 0.20, random_state = 0)\n",
        "\n",
        "# Feature Scaling\n",
        "from sklearn.preprocessing import StandardScaler\n",
        "sc = StandardScaler()\n",
        "X_train = sc.fit_transform(X_train)\n",
        "X_test = sc.transform(X_test)\n",
        "\n",
        "# Training the Naive Bayes model on the Training set\n",
        "from sklearn.naive_bayes import GaussianNB\n",
        "classifier = GaussianNB()\n",
        "classifier.fit(X_train, y_train)\n",
        "\n",
        "# Predicting the Test set results\n",
        "y_pred = classifier.predict(X_test)\n",
        "print(y_pred)\n",
        "\n",
        "# Making the Confusion Matrix\n",
        "from sklearn.metrics import confusion_matrix, accuracy_score\n",
        "ac = accuracy_score(y_test,y_pred)\n",
        "cm = confusion_matrix(y_test, y_pred)\n",
        "print(ac)\n",
        "print(cm)\n"
      ],
      "metadata": {
        "colab": {
          "base_uri": "https://localhost:8080/"
        },
        "id": "9BpWcCmKKqk7",
        "outputId": "0c5dfe08-1a8c-4d9c-e4d0-042bed4dda4f"
      },
      "execution_count": 8,
      "outputs": [
        {
          "output_type": "stream",
          "name": "stdout",
          "text": [
            "[0 0 0 0 0 0 0 1 0 1 0 0 0 0 0 1 0 0 1 0 0 1 0 1 0 1 0 0 0 0 0 0 1 0 0 0 0\n",
            " 0 0 1 0 0 0 0 1 0 0 1 0 1 1 0 0 1 1 0 0 0 1 0 0 1 0 0 0 1 0 0 0 0 1 0 0 0\n",
            " 0 0 0 0 1 1]\n",
            "0.9125\n",
            "[[55  3]\n",
            " [ 4 18]]\n"
          ]
        }
      ]
    },
    {
      "cell_type": "code",
      "source": [
        "pip install apyori\n"
      ],
      "metadata": {
        "colab": {
          "base_uri": "https://localhost:8080/"
        },
        "id": "87vaSO55NPjn",
        "outputId": "ce867c19-7850-473a-fe85-24fe30cc7da7"
      },
      "execution_count": 11,
      "outputs": [
        {
          "output_type": "stream",
          "name": "stdout",
          "text": [
            "Looking in indexes: https://pypi.org/simple, https://us-python.pkg.dev/colab-wheels/public/simple/\n",
            "Collecting apyori\n",
            "  Downloading apyori-1.1.2.tar.gz (8.6 kB)\n",
            "Building wheels for collected packages: apyori\n",
            "  Building wheel for apyori (setup.py) ... \u001b[?25l\u001b[?25hdone\n",
            "  Created wheel for apyori: filename=apyori-1.1.2-py3-none-any.whl size=5974 sha256=8b804deabdad20214977c0dd3948fcfddf95f02aaf538a86f3b926b207430fc7\n",
            "  Stored in directory: /root/.cache/pip/wheels/cb/f6/e1/57973c631d27efd1a2f375bd6a83b2a616c4021f24aab84080\n",
            "Successfully built apyori\n",
            "Installing collected packages: apyori\n",
            "Successfully installed apyori-1.1.2\n"
          ]
        }
      ]
    },
    {
      "cell_type": "code",
      "source": [
        "import numpy as np\n",
        "import pandas as pd\n",
        "from apyori import apriori\n",
        "store_data = pd.read_csv('store_data.csv')\n",
        "store_data.head()\n",
        "\n",
        "\n",
        "records = []\n",
        "for i in range(0, 8):\n",
        "    records.append([str(store_data.values[i,j]) for j in range(0, 3)])\n",
        "\n",
        "for i,j in enumerate(records):\n",
        "    while 'nan' in records[i]: records[i].remove('nan')\n",
        "\n",
        "association_rules = apriori(records, min_support=0.0045, min_confidence=0.2, min_lift=3, min_length=2)\n",
        "association_results = list(association_rules)\n",
        "print(len(association_results))\n",
        "print(association_results[0])\n",
        "\n",
        "for item in association_results:\n",
        "# first index of the inner list\n",
        "# Contains base item and add item\n",
        "    pair = item[0]\n",
        "    items = [x for x in pair]\n",
        "    print(\"Rule: \" + str(list(item.ordered_statistics[0].items_base)) + \" -> \" + str(list(item.ordered_statistics[0].items_add)))\n",
        "#second index of the inner list\n",
        "    print(\"Support: \" + str(item[1]))\n",
        "#third index of the list located at 0th\n",
        "#of the third index of the inner list\n",
        "    print(\"Confidence: \" + str(item[2][0][2]))\n",
        "    print(\"Lift: \" + str(item[2][0][3]))\n",
        "    print(\"=====================================\")"
      ],
      "metadata": {
        "colab": {
          "base_uri": "https://localhost:8080/"
        },
        "id": "TEJAy7lpNWX2",
        "outputId": "bf76372f-96bc-4c46-f2c8-8a0cbceda03f"
      },
      "execution_count": 12,
      "outputs": [
        {
          "output_type": "stream",
          "name": "stdout",
          "text": [
            "18\n",
            "RelationRecord(items=frozenset({'avocado', 'turkey'}), support=0.125, ordered_statistics=[OrderedStatistic(items_base=frozenset({'avocado'}), items_add=frozenset({'turkey'}), confidence=1.0, lift=8.0), OrderedStatistic(items_base=frozenset({'turkey'}), items_add=frozenset({'avocado'}), confidence=1.0, lift=8.0)])\n",
            "Rule: ['avocado'] -> ['turkey']\n",
            "Support: 0.125\n",
            "Confidence: 1.0\n",
            "Lift: 8.0\n",
            "=====================================\n",
            "Rule: ['burgers'] -> ['eggs']\n",
            "Support: 0.125\n",
            "Confidence: 1.0\n",
            "Lift: 8.0\n",
            "=====================================\n",
            "Rule: ['burgers'] -> ['meatballs']\n",
            "Support: 0.125\n",
            "Confidence: 1.0\n",
            "Lift: 8.0\n",
            "=====================================\n",
            "Rule: ['eggs'] -> ['meatballs']\n",
            "Support: 0.125\n",
            "Confidence: 1.0\n",
            "Lift: 8.0\n",
            "=====================================\n",
            "Rule: ['energy bar'] -> ['milk']\n",
            "Support: 0.125\n",
            "Confidence: 1.0\n",
            "Lift: 8.0\n",
            "=====================================\n",
            "Rule: ['energy bar'] -> ['mineral water']\n",
            "Support: 0.125\n",
            "Confidence: 1.0\n",
            "Lift: 8.0\n",
            "=====================================\n",
            "Rule: ['french fries'] -> ['whole wheat pasta']\n",
            "Support: 0.125\n",
            "Confidence: 1.0\n",
            "Lift: 8.0\n",
            "=====================================\n",
            "Rule: ['frozen vegetables'] -> ['green tea']\n",
            "Support: 0.125\n",
            "Confidence: 1.0\n",
            "Lift: 8.0\n",
            "=====================================\n",
            "Rule: ['frozen vegetables'] -> ['spaghetti']\n",
            "Support: 0.125\n",
            "Confidence: 1.0\n",
            "Lift: 8.0\n",
            "=====================================\n",
            "Rule: ['green tea'] -> ['spaghetti']\n",
            "Support: 0.125\n",
            "Confidence: 1.0\n",
            "Lift: 8.0\n",
            "=====================================\n",
            "Rule: ['light cream'] -> ['shallot']\n",
            "Support: 0.125\n",
            "Confidence: 1.0\n",
            "Lift: 8.0\n",
            "=====================================\n",
            "Rule: ['light cream'] -> ['soup']\n",
            "Support: 0.125\n",
            "Confidence: 1.0\n",
            "Lift: 8.0\n",
            "=====================================\n",
            "Rule: ['milk'] -> ['mineral water']\n",
            "Support: 0.125\n",
            "Confidence: 1.0\n",
            "Lift: 8.0\n",
            "=====================================\n",
            "Rule: ['shallot'] -> ['soup']\n",
            "Support: 0.125\n",
            "Confidence: 1.0\n",
            "Lift: 8.0\n",
            "=====================================\n",
            "Rule: ['burgers'] -> ['meatballs', 'eggs']\n",
            "Support: 0.125\n",
            "Confidence: 1.0\n",
            "Lift: 8.0\n",
            "=====================================\n",
            "Rule: ['energy bar'] -> ['mineral water', 'milk']\n",
            "Support: 0.125\n",
            "Confidence: 1.0\n",
            "Lift: 8.0\n",
            "=====================================\n",
            "Rule: ['frozen vegetables'] -> ['green tea', 'spaghetti']\n",
            "Support: 0.125\n",
            "Confidence: 1.0\n",
            "Lift: 8.0\n",
            "=====================================\n",
            "Rule: ['light cream'] -> ['shallot', 'soup']\n",
            "Support: 0.125\n",
            "Confidence: 1.0\n",
            "Lift: 8.0\n",
            "=====================================\n"
          ]
        }
      ]
    }
  ]
}